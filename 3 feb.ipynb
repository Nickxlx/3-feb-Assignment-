{
 "cells": [
  {
   "cell_type": "markdown",
   "id": "05d7498f-1e03-4187-bcda-42fd138bb1bf",
   "metadata": {},
   "source": [
    "Q1. Which keyword is used to create a function? Create a function to return a list of odd numbers in the\n",
    "range of 1 to 25.\n",
    "\n",
    "Answer-> def keyword is use to define a function ."
   ]
  },
  {
   "cell_type": "code",
   "execution_count": 17,
   "id": "ec6a5952-d81f-4cbb-93a4-001451faef67",
   "metadata": {},
   "outputs": [],
   "source": [
    "# Creating a function to return a list of odd numbers in the range of 1 to 25.\n",
    "\n",
    "def odd():\n",
    "    l = []\n",
    "    for i in range(26):\n",
    "        if i%2!= 0:\n",
    "            l.append(i)\n",
    "    return l"
   ]
  },
  {
   "cell_type": "code",
   "execution_count": 18,
   "id": "9a0b57d9-72b6-4f35-9079-2ef3bb8fc9cf",
   "metadata": {},
   "outputs": [
    {
     "data": {
      "text/plain": [
       "[1, 3, 5, 7, 9, 11, 13, 15, 17, 19, 21, 23, 25]"
      ]
     },
     "execution_count": 18,
     "metadata": {},
     "output_type": "execute_result"
    }
   ],
   "source": [
    "odd()"
   ]
  },
  {
   "cell_type": "code",
   "execution_count": null,
   "id": "2c97b5e8-0b7a-4c72-b905-e02eed156b2c",
   "metadata": {},
   "outputs": [],
   "source": []
  },
  {
   "cell_type": "markdown",
   "id": "4e7b6df1-d6e4-4185-8d54-e0eaf2a31183",
   "metadata": {},
   "source": [
    "Q2. Why *args and **kwargs is used in some functions? Create a function each for *args and **kwargs\n",
    "to demonstrate their use.\n",
    "\n",
    "Answer --> *args is use to take multipal argument in a funtion in a linear formate . "
   ]
  },
  {
   "cell_type": "code",
   "execution_count": 27,
   "id": "f20b3522-0c2a-4315-a291-85a8df43fbd4",
   "metadata": {},
   "outputs": [],
   "source": [
    "# demonstration of using *args\n",
    "def test1(*args): \n",
    "        return args"
   ]
  },
  {
   "cell_type": "code",
   "execution_count": 28,
   "id": "558f29cf-4335-4f2c-ab26-b78dd0bf3f30",
   "metadata": {},
   "outputs": [
    {
     "data": {
      "text/plain": [
       "('nikhil', 2, 3.4, True)"
      ]
     },
     "execution_count": 28,
     "metadata": {},
     "output_type": "execute_result"
    }
   ],
   "source": [
    "test1(\"nikhil\", 2, 3.4, True )"
   ]
  },
  {
   "cell_type": "markdown",
   "id": "94394238-3d66-4049-9717-b2213986c067",
   "metadata": {},
   "source": [
    "**kwargs is use to return multiple arguments value in a key value formate ."
   ]
  },
  {
   "cell_type": "code",
   "execution_count": 8,
   "id": "41308a51-c8f3-4c56-921d-fbeaf2fe10e6",
   "metadata": {},
   "outputs": [],
   "source": [
    "def test2(**kvargs):\n",
    "    return kvargs"
   ]
  },
  {
   "cell_type": "code",
   "execution_count": 9,
   "id": "b9749072-f0a6-42bc-b919-cf0c921b7bd0",
   "metadata": {},
   "outputs": [
    {
     "data": {
      "text/plain": [
       "{'nm': 'nikhil', 'b': 'first', 'ls': [1, 2, 3, 4, 5, 7]}"
      ]
     },
     "execution_count": 9,
     "metadata": {},
     "output_type": "execute_result"
    }
   ],
   "source": [
    "test2(nm = \"nikhil\", b = \"first\", ls = [1,2,3,4,5,7])"
   ]
  },
  {
   "cell_type": "code",
   "execution_count": null,
   "id": "ce853dda-9271-413b-94c9-68afe70ab26d",
   "metadata": {},
   "outputs": [],
   "source": []
  },
  {
   "cell_type": "markdown",
   "id": "961da8d8-6c89-44e1-9363-59933d496245",
   "metadata": {},
   "source": [
    "Q3. What is an iterator in python? Name the method used to initialise the iterator object and the method\n",
    "used for iteration. Use these methods to print the first five elements of the given list [2, 4, 6, 8, 10, 12, 14,16, 18, 20].\n",
    "\n",
    "Answer --> In Python an iterator is an object which implements the iterator protocol, which consist of the methods  __iter__()  to initialise the iterator object and  __next__()  the method used for iteration. ."
   ]
  },
  {
   "cell_type": "code",
   "execution_count": 6,
   "id": "c3cfff26-63eb-4486-b6e4-10ebbf18c4f8",
   "metadata": {},
   "outputs": [
    {
     "name": "stdout",
     "output_type": "stream",
     "text": [
      "2\n",
      "4\n",
      "6\n",
      "8\n",
      "10\n"
     ]
    }
   ],
   "source": [
    "l = [2, 4, 6, 8, 10, 12, 14,16, 18, 20]\n",
    "l1 = iter(l)\n",
    "\n",
    "for i in range(5):\n",
    "    print(next(l1))"
   ]
  },
  {
   "cell_type": "code",
   "execution_count": null,
   "id": "982378b0-5508-49ce-a39d-d7013f77ddd9",
   "metadata": {},
   "outputs": [],
   "source": []
  },
  {
   "cell_type": "markdown",
   "id": "0e59e292-e767-40bf-b6d5-729ada5a7e6e",
   "metadata": {},
   "source": [
    "Q4. What is a generator function in python? Why yield keyword is used? Give an example of a generator\n",
    "function.\n",
    "\n",
    "Answer --> In Python a generator is a function that returns an iterator that produces a sequence of values when iterated over. Use yield keyword to create a generator function "
   ]
  },
  {
   "cell_type": "code",
   "execution_count": 35,
   "id": "464ae673-29b9-4139-83aa-fb56e36094cc",
   "metadata": {},
   "outputs": [],
   "source": [
    "def fib(n):\n",
    "    a,b = 0,1\n",
    "    for i in range(n):\n",
    "        yield a            # yield keyword give a object that is iterator \n",
    "        a ,b = b , a+b"
   ]
  },
  {
   "cell_type": "code",
   "execution_count": 38,
   "id": "1ea923db-0fff-4b43-b464-40c047e32778",
   "metadata": {},
   "outputs": [
    {
     "name": "stdout",
     "output_type": "stream",
     "text": [
      "0\n",
      "1\n",
      "1\n",
      "2\n",
      "3\n",
      "5\n",
      "8\n",
      "13\n",
      "21\n",
      "34\n"
     ]
    }
   ],
   "source": [
    "for i in fib(10):\n",
    "    print(i)"
   ]
  },
  {
   "cell_type": "code",
   "execution_count": null,
   "id": "c28dec9f-c121-4726-95e0-a5e786f5dcbb",
   "metadata": {},
   "outputs": [],
   "source": []
  },
  {
   "cell_type": "markdown",
   "id": "7f8d5cbb-18ab-4a7a-af0b-6964716c3fc5",
   "metadata": {},
   "source": [
    "Q5. Create a generator function for prime numbers less than 1000. Use the next() method to print the\n",
    "first 20 prime numbers."
   ]
  },
  {
   "cell_type": "code",
   "execution_count": 1,
   "id": "1743aaa1-ae0a-42f0-893e-7b870a0f30a7",
   "metadata": {},
   "outputs": [],
   "source": [
    "def get_primes():\n",
    "    yield 2\n",
    "    primes = [2]\n",
    "    candidate = 3\n",
    "    while candidate < 1000:\n",
    "        is_prime = True\n",
    "        for prime in primes:\n",
    "            if prime > candidate**0.5:\n",
    "                break\n",
    "            if candidate % prime == 0:\n",
    "                is_prime = False\n",
    "                break\n",
    "        if is_prime:\n",
    "            primes.append(candidate)\n",
    "            yield candidate\n",
    "        candidate += 2"
   ]
  },
  {
   "cell_type": "code",
   "execution_count": 3,
   "id": "c11a668d-05f5-4a84-8fcd-6b7fca73960e",
   "metadata": {},
   "outputs": [
    {
     "name": "stdout",
     "output_type": "stream",
     "text": [
      "2\n",
      "3\n",
      "5\n",
      "7\n",
      "11\n",
      "13\n",
      "17\n",
      "19\n",
      "23\n",
      "29\n",
      "31\n",
      "37\n",
      "41\n",
      "43\n",
      "47\n",
      "53\n",
      "59\n",
      "61\n",
      "67\n",
      "71\n"
     ]
    }
   ],
   "source": [
    "primes = get_primes()\n",
    "\n",
    "# to print 20 prime numbers  \n",
    "for i in range(20):\n",
    "    print(next(primes))"
   ]
  },
  {
   "cell_type": "code",
   "execution_count": null,
   "id": "a67dfa45-c2ce-4637-ba82-37eaff46d190",
   "metadata": {},
   "outputs": [],
   "source": []
  },
  {
   "cell_type": "markdown",
   "id": "cbdf7e6c-3275-4267-854d-8b0498c25012",
   "metadata": {},
   "source": [
    "Q6. Write a python program to print the first 10 Fibonacci numbers using a while loop."
   ]
  },
  {
   "cell_type": "code",
   "execution_count": 53,
   "id": "c3670ba4-6630-4e36-8e75-d4a7f4d64185",
   "metadata": {},
   "outputs": [
    {
     "name": "stdout",
     "output_type": "stream",
     "text": [
      "0\n",
      "1\n",
      "1\n",
      "2\n",
      "3\n",
      "5\n",
      "8\n",
      "13\n",
      "21\n",
      "34\n"
     ]
    }
   ],
   "source": [
    "a,b=0,1 \n",
    "n = 1\n",
    "while n <= 10 :\n",
    "    print(a)\n",
    "    a,b = b,a+b\n",
    "    n+=1"
   ]
  },
  {
   "cell_type": "code",
   "execution_count": null,
   "id": "1dfd7a5f-76f7-4fb8-ba34-579a07b59bd8",
   "metadata": {},
   "outputs": [],
   "source": []
  },
  {
   "cell_type": "markdown",
   "id": "79aa7960-bae6-4934-a1d7-315d2149be73",
   "metadata": {},
   "source": [
    "Q7. Write a List Comprehension to iterate through the given string: ‘pwskills’.\n",
    "Expected output: ['p', 'w', 's', 'k', 'i', 'l', 'l', 's']"
   ]
  },
  {
   "cell_type": "code",
   "execution_count": 46,
   "id": "856a6488-2516-4e17-8635-78a0fde0a0f2",
   "metadata": {},
   "outputs": [
    {
     "data": {
      "text/plain": [
       "['p', 'w', 's', 'k', 'i', 'l', 'l', 's']"
      ]
     },
     "execution_count": 46,
     "metadata": {},
     "output_type": "execute_result"
    }
   ],
   "source": [
    "s = \"pwskills\"\n",
    "\n",
    "[i for i in s]"
   ]
  },
  {
   "cell_type": "code",
   "execution_count": null,
   "id": "2c149d34-53e2-4ae6-b2b2-e4e72f69377a",
   "metadata": {},
   "outputs": [],
   "source": []
  },
  {
   "cell_type": "markdown",
   "id": "ef3687c0-af3c-4444-b88b-c50885dd2ae4",
   "metadata": {},
   "source": [
    "Q8. Write a python program to check whether a given number is Palindrome or not using a while loop."
   ]
  },
  {
   "cell_type": "code",
   "execution_count": 44,
   "id": "b639aeba-2d15-4ec6-8061-da43451fd5cf",
   "metadata": {},
   "outputs": [
    {
     "name": "stdin",
     "output_type": "stream",
     "text": [
      "Enter a no :  151\n"
     ]
    },
    {
     "name": "stdout",
     "output_type": "stream",
     "text": [
      "No is Palindrome  151\n"
     ]
    }
   ],
   "source": [
    "n = int(input(\"Enter a no : \"))\n",
    "temp = n\n",
    "rev = 0\n",
    "while temp!= 0:\n",
    "    r = temp%10\n",
    "    rev = rev*10 + r\n",
    "    temp = temp//10\n",
    "    \n",
    "if (rev == n) :\n",
    "    print(\"No is Palindrome \", n)\n",
    "else:\n",
    "    print(\"No is not Palindrome \", n)  "
   ]
  },
  {
   "cell_type": "code",
   "execution_count": null,
   "id": "f8ab106b-665f-4ef8-9c50-1d3d44389a48",
   "metadata": {},
   "outputs": [],
   "source": []
  },
  {
   "cell_type": "markdown",
   "id": "12597014-8e37-4067-8bd5-a6a473a0c7fd",
   "metadata": {},
   "source": [
    "Q9. Write a code to print odd numbers from 1 to 100 using list comprehension."
   ]
  },
  {
   "cell_type": "code",
   "execution_count": 52,
   "id": "46057fe4-0564-4106-9e69-c88d49175450",
   "metadata": {},
   "outputs": [
    {
     "data": {
      "text/plain": [
       "[1,\n",
       " 3,\n",
       " 5,\n",
       " 7,\n",
       " 9,\n",
       " 11,\n",
       " 13,\n",
       " 15,\n",
       " 17,\n",
       " 19,\n",
       " 21,\n",
       " 23,\n",
       " 25,\n",
       " 27,\n",
       " 29,\n",
       " 31,\n",
       " 33,\n",
       " 35,\n",
       " 37,\n",
       " 39,\n",
       " 41,\n",
       " 43,\n",
       " 45,\n",
       " 47,\n",
       " 49,\n",
       " 51,\n",
       " 53,\n",
       " 55,\n",
       " 57,\n",
       " 59,\n",
       " 61,\n",
       " 63,\n",
       " 65,\n",
       " 67,\n",
       " 69,\n",
       " 71,\n",
       " 73,\n",
       " 75,\n",
       " 77,\n",
       " 79,\n",
       " 81,\n",
       " 83,\n",
       " 85,\n",
       " 87,\n",
       " 89,\n",
       " 91,\n",
       " 93,\n",
       " 95,\n",
       " 97,\n",
       " 99]"
      ]
     },
     "execution_count": 52,
     "metadata": {},
     "output_type": "execute_result"
    }
   ],
   "source": [
    "[i for i in range(100) if i % 2!= 0 ]"
   ]
  },
  {
   "cell_type": "code",
   "execution_count": null,
   "id": "06a7d488-568a-4e4a-9a33-ad2e5d6fcae0",
   "metadata": {},
   "outputs": [],
   "source": []
  },
  {
   "cell_type": "code",
   "execution_count": null,
   "id": "7a98f0b9-d67e-4fc2-abba-8448dc4568ef",
   "metadata": {},
   "outputs": [],
   "source": []
  }
 ],
 "metadata": {
  "kernelspec": {
   "display_name": "Python 3 (ipykernel)",
   "language": "python",
   "name": "python3"
  },
  "language_info": {
   "codemirror_mode": {
    "name": "ipython",
    "version": 3
   },
   "file_extension": ".py",
   "mimetype": "text/x-python",
   "name": "python",
   "nbconvert_exporter": "python",
   "pygments_lexer": "ipython3",
   "version": "3.10.8"
  }
 },
 "nbformat": 4,
 "nbformat_minor": 5
}
